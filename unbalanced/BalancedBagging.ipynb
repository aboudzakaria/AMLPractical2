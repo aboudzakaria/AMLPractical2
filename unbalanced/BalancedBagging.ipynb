{
 "cells": [
  {
   "cell_type": "markdown",
   "metadata": {},
   "source": [
    "# Balanced Bagging\n",
    "## In this file we will explain the usage of Balanced bagging to solve the problem of classification on a highly unbalanced data.\n",
    "## The basic idea of the balanced bagging is to split the dataset to multiple balanced sub-dataset and create multiple classifier based on each one and the result is taken by doing majority vote.\n"
   ]
  },
  {
   "cell_type": "code",
   "execution_count": 8,
   "metadata": {},
   "outputs": [],
   "source": [
    "\n",
    "from sklearn.utils import shuffle\n",
    "from sklearn.metrics import precision_recall_fscore_support\n",
    "import numpy as np\n",
    "\n",
    "from collections import Counter\n",
    "from sklearn.datasets import make_classification\n",
    "from sklearn.model_selection import train_test_split\n",
    "from sklearn.metrics import confusion_matrix\n",
    "from imblearn.ensemble import BalancedBaggingClassifier \n",
    "\n",
    "bbc = BalancedBaggingClassifier(random_state=42)\n",
    "\n",
    "X = np.genfromtxt(\"train.csv\", delimiter=',')\n",
    "Y = np.genfromtxt(\"train_labels.csv\")\n",
    "\n",
    "n = X.shape[0]\n",
    "d = X.shape[1]\n",
    "train_size = n * 70 // 100\n",
    "\n",
    "X, Y = shuffle(X, Y, random_state=27)\n",
    "\n",
    "# split train test\n",
    "X_train = X[:train_size]\n",
    "Y_train = Y[:train_size]\n",
    "X_test = X[train_size:]\n",
    "Y_test = Y[train_size:]\n",
    "\n",
    "bbc.fit(X_train, Y_train) \n",
    "\n",
    "Y__ = bbc.predict(X_test)\n",
    "\n",
    "res = precision_recall_fscore_support(Y_test,Y__)\n",
    "\n",
    "X_final = np.genfromtxt(\"test.csv\", delimiter=',')\n",
    "\n",
    "Y_final = bbc.predict(X_final)\n",
    "\n",
    "np.savetxt(\"test_pred_labels_2.csv\", Y_final, delimiter=\",\")\n"
   ]
  },
  {
   "cell_type": "markdown",
   "metadata": {},
   "source": [
    "# The onfusion matrix:"
   ]
  },
  {
   "cell_type": "code",
   "execution_count": 10,
   "metadata": {},
   "outputs": [
    {
     "name": "stdout",
     "output_type": "stream",
     "text": [
      "[[27591  2343]\n",
      " [   19    47]]\n"
     ]
    }
   ],
   "source": [
    "print(confusion_matrix(Y_test, Y__))"
   ]
  },
  {
   "cell_type": "markdown",
   "metadata": {},
   "source": [
    "# The precision, recall, fscore, support of the two classes:"
   ]
  },
  {
   "cell_type": "code",
   "execution_count": 11,
   "metadata": {},
   "outputs": [
    {
     "name": "stdout",
     "output_type": "stream",
     "text": [
      "(array([0.99931184, 0.01966527]), array([0.9217278 , 0.71212121]), array([0.95895315, 0.03827362]), array([29934,    66], dtype=int64))\n"
     ]
    }
   ],
   "source": [
    "print(res)"
   ]
  },
  {
   "cell_type": "markdown",
   "metadata": {},
   "source": [
    "# Precision:\n",
    "### Class1: 0.99931184\n",
    "### Class2: 0.01966527\n",
    "# Recall:\n",
    "### Class1: 0.9217278\n",
    "### Class2: 0.71212121\n",
    "# FScore:\n",
    "### Class1: 0.95895315\n",
    "### Class2: 0.03827362\n"
   ]
  },
  {
   "cell_type": "markdown",
   "metadata": {},
   "source": [
    "### The precision for the minority class is low. However, the recall is high. In the second algorithm that we implemented, we got a higher precision."
   ]
  }
 ],
 "metadata": {
  "kernelspec": {
   "display_name": "Python 3",
   "language": "python",
   "name": "python3"
  },
  "language_info": {
   "codemirror_mode": {
    "name": "ipython",
    "version": 3
   },
   "file_extension": ".py",
   "mimetype": "text/x-python",
   "name": "python",
   "nbconvert_exporter": "python",
   "pygments_lexer": "ipython3",
   "version": "3.6.4"
  }
 },
 "nbformat": 4,
 "nbformat_minor": 2
}
